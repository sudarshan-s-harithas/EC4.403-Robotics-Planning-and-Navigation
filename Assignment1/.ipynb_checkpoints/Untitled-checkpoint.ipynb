{
 "cells": [
  {
   "cell_type": "code",
   "execution_count": 46,
   "id": "56cca23c",
   "metadata": {},
   "outputs": [],
   "source": [
    "import numpy as np \n",
    "widths =  [20, 10, 20] \n",
    "heights = [38, 20, 38] \n",
    "RectCenter = [[50.0, 81.0], [75.0, 50.0], [50.0, 19.0]]  \n",
    "numRects = 3.0 "
   ]
  },
  {
   "cell_type": "code",
   "execution_count": 50,
   "id": "b3f7732d",
   "metadata": {},
   "outputs": [],
   "source": [
    "def GetBoxCollisionSDF(  widths , heights , Qpt , numRects , RectCenter ,  collisionDistance ):\n",
    "        \n",
    "        for i in range( int(numRects) ):\n",
    "            \n",
    "            R = [  widths[i]/2  , heights[i]/2 ]\n",
    "            Qpt = np.asarray(Qpt)\n",
    "            print(RectCenter[i]  )\n",
    "            QptRectframe = Qpt - np.asarray(RectCenter[i] )\n",
    "            \n",
    "#             print( QptRectframe )\n",
    "            Qpt = np.abs(QptRectframe)\n",
    "#             print( Qpt )\n",
    "#             print( RectCenter[i] )\n",
    "#             print(\"---------\")\n",
    "            Temp = np.maximum( Qpt - R , np.zeros(2) )\n",
    "            dist = np.linalg.norm(  Temp )\n",
    "            collisionDistance.append(dist)\n",
    "        \n",
    "        return collisionDistance"
   ]
  },
  {
   "cell_type": "code",
   "execution_count": 53,
   "id": "6d459885",
   "metadata": {},
   "outputs": [
    {
     "name": "stdout",
     "output_type": "stream",
     "text": [
      "[  0. -66.]\n",
      "[-75.  16.]\n",
      "[25. -3.]\n"
     ]
    }
   ],
   "source": [
    "collisionDistance = [] \n",
    "collisionDistance = GetBoxCollisionSDF(widths , heights , [50, 15 ] , numRects ,   RectCenter , collisionDistance )"
   ]
  },
  {
   "cell_type": "code",
   "execution_count": 54,
   "id": "ba1ed99a",
   "metadata": {},
   "outputs": [
    {
     "name": "stdout",
     "output_type": "stream",
     "text": [
      "[47.0, 70.25667228100119, 15.0]\n"
     ]
    }
   ],
   "source": [
    "print( collisionDistance )"
   ]
  },
  {
   "cell_type": "code",
   "execution_count": null,
   "id": "96bff229",
   "metadata": {},
   "outputs": [],
   "source": []
  },
  {
   "cell_type": "code",
   "execution_count": null,
   "id": "f51d70e6",
   "metadata": {},
   "outputs": [],
   "source": []
  }
 ],
 "metadata": {
  "kernelspec": {
   "display_name": "RPN2022",
   "language": "python",
   "name": "rpn2022"
  },
  "language_info": {
   "codemirror_mode": {
    "name": "ipython",
    "version": 3
   },
   "file_extension": ".py",
   "mimetype": "text/x-python",
   "name": "python",
   "nbconvert_exporter": "python",
   "pygments_lexer": "ipython3",
   "version": "3.8.10"
  }
 },
 "nbformat": 4,
 "nbformat_minor": 5
}
